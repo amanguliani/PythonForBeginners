{
 "cells": [
  {
   "cell_type": "code",
   "execution_count": 50,
   "metadata": {},
   "outputs": [],
   "source": [
    "import random\n",
    "\n",
    "# roll a dice btw sides 4 to 10\n",
    "def roll_a_dice(sides = 6):\n",
    "    if (sides < 4 or sides > 10):\n",
    "        print (\"Not supported\")\n",
    "    else:    \n",
    "        return random.randint(1, sides)"
   ]
  },
  {
   "cell_type": "code",
   "execution_count": 51,
   "metadata": {},
   "outputs": [
    {
     "name": "stdout",
     "output_type": "stream",
     "text": [
      "Not supported\n"
     ]
    }
   ],
   "source": [
    "roll_a_dice(0)"
   ]
  },
  {
   "cell_type": "code",
   "execution_count": 69,
   "metadata": {},
   "outputs": [],
   "source": [
    "my_list = [\"A\", \"Word\", \"List\", \"Aman\", \"Class\"]"
   ]
  },
  {
   "cell_type": "code",
   "execution_count": 77,
   "metadata": {},
   "outputs": [
    {
     "name": "stdout",
     "output_type": "stream",
     "text": [
      "A Word List Aman Class\n"
     ]
    }
   ],
   "source": [
    "my_str = \" \".join(my_list)\n",
    "print(my_str)"
   ]
  },
  {
   "cell_type": "code",
   "execution_count": 73,
   "metadata": {},
   "outputs": [
    {
     "name": "stdout",
     "output_type": "stream",
     "text": [
      "My current word is A\n",
      "My current word is Word\n",
      "My current word is List\n",
      "Hey Aman\n",
      "My current word is Class\n"
     ]
    }
   ],
   "source": [
    "for word in my_list:\n",
    "    if(word == \"Aman\"):\n",
    "        print (\"Hey Aman\")\n",
    "    else:\n",
    "        print(\"My current word is \" + word)"
   ]
  },
  {
   "cell_type": "code",
   "execution_count": 65,
   "metadata": {},
   "outputs": [],
   "source": [
    "repeat_str = \"This is is a a string which which has repeated words words\""
   ]
  },
  {
   "cell_type": "code",
   "execution_count": 66,
   "metadata": {},
   "outputs": [],
   "source": [
    "def remove_repeated_words(my_str):\n",
    "    # start with an empty list, since list is ordered Remember ?\n",
    "    list_words = []\n",
    "    \n",
    "    # split the string on space and iterate over it word by word\n",
    "    for word in my_str.split():\n",
    "        # if word doesnt exist in list append, so if already added, wont add again\n",
    "        if word not in list_words:\n",
    "            list_words.append(w)\n",
    "            \n",
    "    # joing the list into a string with as space and you are done. \n",
    "    return \" \".join(list_words)\n"
   ]
  },
  {
   "cell_type": "code",
   "execution_count": 68,
   "metadata": {},
   "outputs": [
    {
     "data": {
      "text/plain": [
       "'This is a string which has repeated words'"
      ]
     },
     "execution_count": 68,
     "metadata": {},
     "output_type": "execute_result"
    }
   ],
   "source": [
    "remove_repeated_words(repeat_str)"
   ]
  }
 ],
 "metadata": {
  "kernelspec": {
   "display_name": "Python 3",
   "language": "python",
   "name": "python3"
  },
  "language_info": {
   "codemirror_mode": {
    "name": "ipython",
    "version": 3
   },
   "file_extension": ".py",
   "mimetype": "text/x-python",
   "name": "python",
   "nbconvert_exporter": "python",
   "pygments_lexer": "ipython3",
   "version": "3.7.4"
  }
 },
 "nbformat": 4,
 "nbformat_minor": 4
}
