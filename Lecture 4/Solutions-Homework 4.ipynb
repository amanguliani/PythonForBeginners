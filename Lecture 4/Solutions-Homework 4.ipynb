{
 "cells": [
  {
   "cell_type": "markdown",
   "metadata": {},
   "source": [
    "# Lecture 4 - HW - Solutions"
   ]
  },
  {
   "cell_type": "markdown",
   "metadata": {},
   "source": [
    "## Problem 1  - Random Num Guess\n",
    "Our program randomly select a number between 1 -1000.\n",
    "Then take an input from the user to guess the number and give some clues.\n",
    "- Print Higher if the number guessed is higher\n",
    "- Lower otherwise\n",
    "Give the user 20 chances to guess the number."
   ]
  },
  {
   "cell_type": "code",
   "execution_count": null,
   "metadata": {},
   "outputs": [],
   "source": [
    "import random\n",
    "\n",
    "def guess_my_number():\n",
    "    rand_int = random.randint(1, 1000) # chose a random number \n",
    "    guessed = False # Flag to track if guessed correctly, will help later on to give a proper message\n",
    "    print (\"I have chosen a number between 1 and 1000, can you guess my number ? \")\n",
    "    print (\"You have 20 chances.\")\n",
    "    \n",
    "    guessed_numbers = [] # we ll add the numbers guessed to this list and use this to count number of guesses\n",
    "    while len(guessed_numbers) < 20 and not guessed: # while attempts is less than 20 (since it stated with 0) and word is not guessed keep going\n",
    "        guess = int (input(\"Whats your guess:   \"))\n",
    "        if (guess < 1 or guess > 1000): # error handling\n",
    "            print (\"Incorrect Guess , guess btw 1 and 1000\")\n",
    "        elif (guess in guessed_numbers): # another error handling \n",
    "            print (\"Common, you already guessed that !!! \")\n",
    "        elif guess == rand_int: # guessed correcrtly\n",
    "            print (\"Correct ! You got it \")\n",
    "            guessed = True # set this as True, so while loop exits !!!\n",
    "        else: # if valid but not correctly guessed, we need to give clues\n",
    "            \n",
    "            if guess+1 == rand_int or guess-1 == rand_int: # Something extra, not needed\n",
    "                print (\"You are so close !! you are within 1 range of my number\")\n",
    "            elif guess < rand_int: # If guessed number is lower\n",
    "                print (\"Your guess was low, guess higher\") \n",
    "            elif guess > rand_int: # if guessed number is higher\n",
    "                print (\"Your guess was high, guess lower\") \n",
    "        \n",
    "            # only add if guess is valid and not correctly guessed.\n",
    "            guessed_numbers.append(guess) # if not guessed correctly, add the guesss to the list so it stops after list has 20 guesses.\n",
    "\n",
    "\n",
    "    # we ll come out of while loop in 2 ways, if correctly guessed or if chances ran out.\n",
    "    if not guessed: # if guessed is not set, means chances ran out\n",
    "        print (\"Sorry chances up ! my number was {}\".format(rand_int))"
   ]
  },
  {
   "cell_type": "code",
   "execution_count": 2,
   "metadata": {},
   "outputs": [
    {
     "name": "stdout",
     "output_type": "stream",
     "text": [
      "I have chosen a number between 1 and 1000, can you guess my number ? \n",
      "You have 20 chances.\n",
      "Whats your guess:   500\n",
      "Your guess was low, guess higher\n",
      "Whats your guess:   250\n",
      "Your guess was low, guess higher\n",
      "Whats your guess:   125\n",
      "Your guess was low, guess higher\n",
      "Whats your guess:   75\n",
      "Your guess was low, guess higher\n",
      "Whats your guess:   750\n",
      "Your guess was low, guess higher\n",
      "Whats your guess:   900\n",
      "Your guess was high, guess lower\n",
      "Whats your guess:   825\n",
      "Your guess was low, guess higher\n",
      "Whats your guess:   850\n",
      "Your guess was low, guess higher\n",
      "Whats your guess:   875\n",
      "Your guess was low, guess higher\n",
      "Whats your guess:   890\n",
      "Your guess was high, guess lower\n",
      "Whats your guess:   880\n",
      "Your guess was high, guess lower\n",
      "Whats your guess:   878\n",
      "You are so close !! you are within 1 range of my number\n",
      "Whats your guess:   876\n",
      "You are so close !! you are within 1 range of my number\n",
      "Whats your guess:   877\n",
      "Correct ! You got it \n"
     ]
    }
   ],
   "source": [
    "# Call the function \n",
    "guess_my_number()"
   ]
  },
  {
   "cell_type": "markdown",
   "metadata": {},
   "source": [
    "## Problem 2 - Keyboard Lag\n",
    "My bluetooth keyboard has a lag and sometimes repeats the last word i typed. Write a function to only remove the subsequent repeated word from a string. For Example.\n",
    "\n",
    "For a string \"Hey this is is a fun fun assignment is it not not \"\n",
    "\n",
    "Output should be \"Hey this is a fun assigment is it not \"\n",
    "\n",
    "Note: How it keeps the 'is' later in the sentence in the example."
   ]
  },
  {
   "cell_type": "code",
   "execution_count": null,
   "metadata": {},
   "outputs": [],
   "source": [
    "# The ask here is to only remove subsequent repeated words in a sentence and not all repeated words.\n",
    "# So lets keep a variable where we keep the last word we saw and compare it with current word while going over the sentence.\n",
    "# if last word is same as current word, dont add to list , otherwise add.\n",
    "def fix_lagged_keyboard(str):\n",
    "    previous_word = \"\" # Lets assume an empty previous word.\n",
    "    new_list = [] # new _list to add words too\n",
    "    for w in lagged_str.split():\n",
    "        if w != previous_word: # if current word w is not equal to previous word, then add to list\n",
    "            new_list.append(w) # since we chose \"\" intially it will always add the first word.\n",
    "        previous_word = w # move the previous_word to the current word so it can compare it with next word.\n",
    "        \n",
    "    return \" \".join(new_list)"
   ]
  },
  {
   "cell_type": "code",
   "execution_count": null,
   "metadata": {},
   "outputs": [],
   "source": [
    "fix_lagged_keyboard(\"Hey this this is a fun fun assignment is it not not\")"
   ]
  },
  {
   "cell_type": "markdown",
   "metadata": {},
   "source": [
    "## Problem 3 - Calculate the word score\n",
    "\n",
    "Write a function which takes a word of any length upto 10 and calculates its score adding the characters scores based on the dictionary given to you \n",
    "\n",
    "score = {\"a\": 1 , \"b\": 3 , \"c\": 3 , \"d\": 2 ,\n",
    "         \"e\": 1 , \"f\": 4 , \"g\": 2 , \"h\": 4 ,\n",
    "         \"i\": 1 , \"j\": 8 , \"k\": 5 , \"l\": 1 ,\n",
    "         \"m\": 3 , \"n\": 1 , \"o\": 1 , \"p\": 3 ,\n",
    "         \"q\": 10, \"r\": 1 , \"s\": 1 , \"t\": 1 ,\n",
    "         \"u\": 1 , \"v\": 4 , \"w\": 4 , \"x\": 8 ,\n",
    "         \"y\": 4 , \"z\": 10}\n",
    "\n",
    "Example: The score for \"buzz\" is 24 (3+1+10+10)"
   ]
  },
  {
   "cell_type": "code",
   "execution_count": 8,
   "metadata": {},
   "outputs": [],
   "source": [
    "def calc_score(word):\n",
    "    if len(word) > 10: # error handling \n",
    "        print ('Cannot calculate score !!')\n",
    "        return -1\n",
    "    score_dict = {\"a\": 1 , \"b\": 3 , \"c\": 3 , \"d\": 2 ,\n",
    "         \"e\": 1 , \"f\": 4 , \"g\": 2 , \"h\": 4 ,\n",
    "         \"i\": 1 , \"j\": 8 , \"k\": 5 , \"l\": 1 ,\n",
    "         \"m\": 3 , \"n\": 1 , \"o\": 1 , \"p\": 3 ,\n",
    "         \"q\": 10, \"r\": 1 , \"s\": 1 , \"t\": 1 ,\n",
    "         \"u\": 1 , \"v\": 4 , \"w\": 4 , \"x\": 8 ,\n",
    "         \"y\": 4 , \"z\": 10}\n",
    "    \n",
    "    score = 0 # define intial score of 0, variable to keep the current score.\n",
    "\n",
    "    for c in word.lower(): # by using for in a string it will go character by character, we also force all characters to be lower so we can match it in dict\n",
    "        if c in score_dict: # if character exists in dict\n",
    "            score += score_dict.get(c) # get the score from the dict and add it to current score, which is updated everytime we find a character\n",
    "    \n",
    "    return score"
   ]
  },
  {
   "cell_type": "code",
   "execution_count": 12,
   "metadata": {},
   "outputs": [
    {
     "data": {
      "text/plain": [
       "24"
      ]
     },
     "execution_count": 12,
     "metadata": {},
     "output_type": "execute_result"
    }
   ],
   "source": [
    "calc_score(\"Buzz\")"
   ]
  },
  {
   "cell_type": "markdown",
   "metadata": {},
   "source": [
    "## Problem 4 - Word Cross.\n",
    "Write a function that takes two words and prints how many places do the words cross each other like in a crossword\n",
    "\n",
    "For ex:\n",
    "\n",
    "word 1 : Homework\n",
    "word 2 : Read\n",
    "\n",
    "\n",
    "Words cross at 2 places  - R and e like this \n",
    "\n",
    "Homework\n",
    "      e\n",
    "      a\n",
    "      d\n",
    "   r\n",
    "Homework\n",
    "   a\n",
    "   d"
   ]
  },
  {
   "cell_type": "code",
   "execution_count": 36,
   "metadata": {},
   "outputs": [],
   "source": [
    "# Two words crossing just means how many common characters are there in both words.\n",
    "\n",
    "# Simpler version \n",
    "def wordscross(word1, word2):\n",
    "    count = 0 # to count the common charac, starting with 0\n",
    "    for c in word1: # for each character in word 1\n",
    "        if c in set(word2): # if char is in a set of characters in word2, set so we remove duplicates counts.\n",
    "            count+=1 # increment the count\n",
    "\n",
    "    return count\n",
    "\n",
    "# one line version\n",
    "def wordscross_one_line(word1, word2):\n",
    "    return len(set(word1).intersection(word2)) # create set of characters in word 1 and use intersection with char in word 2, this will give a list, return the len of the list"
   ]
  },
  {
   "cell_type": "code",
   "execution_count": 38,
   "metadata": {},
   "outputs": [
    {
     "data": {
      "text/plain": [
       "2"
      ]
     },
     "execution_count": 38,
     "metadata": {},
     "output_type": "execute_result"
    }
   ],
   "source": [
    "wordscross(\"homework\", \"read\")"
   ]
  },
  {
   "cell_type": "markdown",
   "metadata": {},
   "source": [
    "## Problem 5 - Cows and Bulls.\n",
    "Write a function that takes two words of same length and no repeated characters and prints how many characters in the two words are in the same place (Bulls) and how many characters are common but not in the same place.\n",
    "\n",
    "For ex: \n",
    "\n",
    "word 1 = bird\n",
    "word 2 = ride\n",
    "\n",
    "Output should be 2 cow (for r and d) and 1 bull (for i)"
   ]
  },
  {
   "cell_type": "code",
   "execution_count": 39,
   "metadata": {},
   "outputs": [],
   "source": [
    "def calc_cows_and_bulls(word1, word2):\n",
    "    if len(word1) != len(word2): # check lenghts of words\n",
    "        return \"Words are not of equal length\"\n",
    "    \n",
    "    # check if set length created from word is equal to length, if not, means we had repeated characters in it.\n",
    "    if len(set(word1)) != len(word1) or len(set(word2)) != len(word2): \n",
    "        return \"Word contain repeated characters\"\n",
    "    \n",
    "    # lets use the logic of crossword from above to calculate first how many total common characters are in two words.\n",
    "    total_count = len(set(word1).intersection(word2))\n",
    "\n",
    "    # Now lets calculate how many bulls are there.\n",
    "    bulls = 0 \n",
    "    # for bulls we just need to go character by character in two words together and compare if characters in two words at same position are equal.\n",
    "    for i in range(len(word1)):\n",
    "        if word1[i] == word2[i]:\n",
    "            bulls+=1\n",
    "            \n",
    "    # Now we know the total common characters and we know bulls. Cows are then total - bulls !!\n",
    "    return \"Bulls {} and Cows {}\".format(bulls, total_count - bulls)\n",
    "\n",
    "def calc_cows_and_bulls_compact(word1, word2):\n",
    "    if len(word1) != len(word2): # check lenghts of words\n",
    "        return \"Words are not of equal length\"\n",
    "    \n",
    "    if len(set(word1)) != len(word1) or len(set(word2)) != len(word2): \n",
    "        return \"Word contain repeated characters\"\n",
    "    \n",
    "    # same as intersection, & takes gives you common elements in two sets.\n",
    "    # read this as , characters in word 1 AND word 2\n",
    "    total_count = len(set(word1) & set(word2)) \n",
    "\n",
    "    ## Calculate bulls.\n",
    "    bulls = 0\n",
    "    for i,j in zip(word1, word2): # zip function allows you to create two interators on two lists / strings together.\n",
    "        # i and j will be characters at the same place in word1 and word 2\n",
    "        # since for is going to load i and j with word 1 and word 2 together, due to zip\n",
    "        if (i==j): # if characters are equal\n",
    "            bulls +=1 # update bulls.\n",
    "    \n",
    "    # Now we know the total common characters and we know bulls. Cows are then total - bulls !!\n",
    "    return \"Bulls {} and Cows {}\".format(bulls, total_count - bulls)"
   ]
  },
  {
   "cell_type": "code",
   "execution_count": 45,
   "metadata": {},
   "outputs": [
    {
     "data": {
      "text/plain": [
       "'Word contain repeated characters'"
      ]
     },
     "execution_count": 45,
     "metadata": {},
     "output_type": "execute_result"
    }
   ],
   "source": [
    "calc_cows_and_bulls_compact(\"word\", \"full\")"
   ]
  },
  {
   "cell_type": "code",
   "execution_count": null,
   "metadata": {},
   "outputs": [],
   "source": []
  }
 ],
 "metadata": {
  "kernelspec": {
   "display_name": "Python 3",
   "language": "python",
   "name": "python3"
  },
  "language_info": {
   "codemirror_mode": {
    "name": "ipython",
    "version": 3
   },
   "file_extension": ".py",
   "mimetype": "text/x-python",
   "name": "python",
   "nbconvert_exporter": "python",
   "pygments_lexer": "ipython3",
   "version": "3.7.4"
  }
 },
 "nbformat": 4,
 "nbformat_minor": 2
}
